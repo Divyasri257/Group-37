{
  "cells": [
    {
      "cell_type": "code",
      "metadata": {
        "colab": {
          "base_uri": "https://localhost:8080/"
        },
        "id": "X9kd4QfN4BWG",
        "outputId": "44a5f201-a7f1-42bf-e77f-bf3d598bbf8b"
      },
      "source": [
        "from google.colab import drive\n",
        "drive.mount(\"/content/drive\")\n",
        "FOLDER_PATH = \"/content/drive/MyDrive/\""
      ],
      "execution_count": 2,
      "outputs": [
        {
          "output_type": "stream",
          "name": "stdout",
          "text": [
            "Mounted at /content/drive\n"
          ]
        }
      ],
      "id": "X9kd4QfN4BWG"
    },
    {
      "cell_type": "code",
      "execution_count": 76,
      "id": "9a7519a4",
      "metadata": {
        "id": "9a7519a4"
      },
      "outputs": [],
      "source": [
        "\n",
        "import tensorflow\n",
        "import pandas as pd\n",
        "import numpy as np\n",
        "import sklearn\n",
        "from sklearn import preprocessing\n",
        "from sklearn.model_selection import train_test_split\n",
        "from sklearn.metrics import r2_score, mean_squared_error\n",
        "import tensorflow as tf\n",
        "from matplotlib import pyplot as plt"
      ]
    },
    {
      "cell_type": "code",
      "execution_count": 77,
      "id": "e66f0339",
      "metadata": {
        "colab": {
          "base_uri": "https://localhost:8080/"
        },
        "id": "e66f0339",
        "outputId": "b1de864e-3fae-4cb5-b558-3cd32fc87e40"
      },
      "outputs": [
        {
          "output_type": "execute_result",
          "data": {
            "text/plain": [
              "Date                          object\n",
              "Rented Bike Count              int64\n",
              "Hour                           int64\n",
              "Temperature(°C)              float64\n",
              "Humidity(%)                    int64\n",
              "Wind speed (m/s)             float64\n",
              "Visibility (10m)               int64\n",
              "Dew point temperature(°C)    float64\n",
              "Solar Radiation (MJ/m2)      float64\n",
              "Rainfall(mm)                 float64\n",
              "Snowfall (cm)                float64\n",
              "Seasons                       object\n",
              "Holiday                       object\n",
              "Functioning Day               object\n",
              "dtype: object"
            ]
          },
          "metadata": {},
          "execution_count": 77
        }
      ],
      "source": [
        "#reading csv data and saving in dataframe_main.\n",
        "coursework = pd.read_csv(FOLDER_PATH+\"coursework_other.csv\",encoding = \"ISO-8859-1\")\n",
        "coursework.dtypes"
      ]
    },
    {
      "cell_type": "code",
      "execution_count": 78,
      "id": "3f61222a",
      "metadata": {
        "id": "3f61222a"
      },
      "outputs": [],
      "source": [
        "##Converting categorical values for columns Seasons, Holiday and Functioning into integer values using Ordinal Encoder did not help since OrdinalEncoder requires a 2D array. Therefore, we use a LabelEncoder.\n",
        "\n",
        "le = preprocessing.LabelEncoder()\n",
        "coursework['Seasons']=le.fit_transform(coursework['Seasons'])\n",
        "coursework['Holiday']=le.fit_transform(coursework['Holiday'])\n",
        "coursework['Functioning Day']=le.fit_transform(coursework['Functioning Day'])\n",
        "\n"
      ]
    },
    {
      "cell_type": "code",
      "execution_count": 110,
      "id": "efd161e1",
      "metadata": {
        "id": "efd161e1"
      },
      "outputs": [],
      "source": [
        "X = coursework.iloc[:,2:]\n",
        "Y = coursework['Rented Bike Count']\n",
        "x1 = X.to_numpy(dtype=\"float64\")\n",
        "y1 = Y.to_numpy(dtype=\"float64\")\n",
        "x_train,x_test,y_train,y_test = train_test_split(x1,y1,test_size = 0.1)\n",
        "\n",
        "reg_data = [['Algorithm','R2 Score','Mean Squared Error']]"
      ]
    },
    {
      "cell_type": "markdown",
      "source": [
        "## Dummy Regressor"
      ],
      "metadata": {
        "id": "1lu2nG-xO-e_"
      },
      "id": "1lu2nG-xO-e_"
    },
    {
      "cell_type": "code",
      "source": [
        "from sklearn.dummy import DummyRegressor\n",
        "dummy_regr = DummyRegressor(strategy=\"mean\")\n",
        "dummy_regr.fit(x_train, y_train)"
      ],
      "metadata": {
        "colab": {
          "base_uri": "https://localhost:8080/"
        },
        "id": "8N_XL3jdNu_Q",
        "outputId": "ade44208-0f58-43ff-c0da-fa050dea3881"
      },
      "id": "8N_XL3jdNu_Q",
      "execution_count": 80,
      "outputs": [
        {
          "output_type": "execute_result",
          "data": {
            "text/plain": [
              "DummyRegressor()"
            ]
          },
          "metadata": {},
          "execution_count": 80
        }
      ]
    },
    {
      "cell_type": "code",
      "source": [
        "y_test_pred = neigh.predict(x_test)\n",
        "y_test_pred.shape\n",
        "r2 = r2_score(y_test,y_test_pred)\n",
        "mse = mean_squared_error(y_test,y_test_pred) \n",
        "reg_data.append(['dummy',r2,mse])"
      ],
      "metadata": {
        "id": "lstQSBq4OCRT"
      },
      "execution_count": 111,
      "outputs": [],
      "id": "lstQSBq4OCRT"
    },
    {
      "cell_type": "markdown",
      "source": [
        "## Decision tree"
      ],
      "metadata": {
        "id": "5m3gIWYrFP1A"
      },
      "id": "5m3gIWYrFP1A"
    },
    {
      "cell_type": "code",
      "source": [
        "from sklearn import tree\n",
        "clf = tree.DecisionTreeRegressor()\n",
        "clf = clf.fit(x_train, y_train)"
      ],
      "metadata": {
        "id": "QqAEvqFvj50x"
      },
      "id": "QqAEvqFvj50x",
      "execution_count": 82,
      "outputs": []
    },
    {
      "cell_type": "code",
      "source": [
        "y_test_pred = clf.predict(x_test)\n",
        "r2 = r2_score(y_test,y_test_pred)\n",
        "mse = mean_squared_error(y_test,y_test_pred) \n",
        "reg_data.append(['decision tree',r2,mse])"
      ],
      "metadata": {
        "id": "RsVSMXF8k9lZ"
      },
      "id": "RsVSMXF8k9lZ",
      "execution_count": 112,
      "outputs": []
    },
    {
      "cell_type": "markdown",
      "source": [
        "## KNN classifier"
      ],
      "metadata": {
        "id": "YlHXtXSAFvqa"
      },
      "id": "YlHXtXSAFvqa"
    },
    {
      "cell_type": "code",
      "source": [
        "from sklearn.neighbors import KNeighborsRegressor\n",
        "neigh = KNeighborsRegressor(n_neighbors=12)\n",
        "neigh.fit(x_train, y_train)"
      ],
      "metadata": {
        "colab": {
          "base_uri": "https://localhost:8080/"
        },
        "id": "C8m2rFGpFy7f",
        "outputId": "b92259b4-d27e-41cc-e7b1-d39352528675"
      },
      "id": "C8m2rFGpFy7f",
      "execution_count": 84,
      "outputs": [
        {
          "output_type": "execute_result",
          "data": {
            "text/plain": [
              "KNeighborsRegressor(n_neighbors=12)"
            ]
          },
          "metadata": {},
          "execution_count": 84
        }
      ]
    },
    {
      "cell_type": "code",
      "source": [
        "y_test_pred = neigh.predict(x_test)\n",
        "r2 = r2_score(y_test,y_test_pred)\n",
        "mse = mean_squared_error(y_test,y_test_pred) \n",
        "reg_data.append(['KNN',r2,mse])"
      ],
      "metadata": {
        "id": "CSkdznMOGFZe"
      },
      "id": "CSkdznMOGFZe",
      "execution_count": 113,
      "outputs": []
    },
    {
      "cell_type": "markdown",
      "source": [
        "## Random Forest"
      ],
      "metadata": {
        "id": "67C23fGWGz1C"
      },
      "id": "67C23fGWGz1C"
    },
    {
      "cell_type": "code",
      "source": [
        "from sklearn.ensemble import RandomForestRegressor\n",
        "regr = RandomForestRegressor(random_state=0)\n",
        "regr.fit(x_train, y_train)"
      ],
      "metadata": {
        "colab": {
          "base_uri": "https://localhost:8080/"
        },
        "id": "s-TId-iXG4DH",
        "outputId": "238e62da-3c91-4c55-bebf-2c7ac685676b"
      },
      "id": "s-TId-iXG4DH",
      "execution_count": 86,
      "outputs": [
        {
          "output_type": "execute_result",
          "data": {
            "text/plain": [
              "RandomForestRegressor(random_state=0)"
            ]
          },
          "metadata": {},
          "execution_count": 86
        }
      ]
    },
    {
      "cell_type": "code",
      "source": [
        "y_test_pred = regr.predict(x_test)\n",
        "r2 = r2_score(y_test,y_test_pred)\n",
        "mse = mean_squared_error(y_test,y_test_pred) \n",
        "reg_data.append(['random forest',r2,mse])"
      ],
      "metadata": {
        "id": "03aj68oPH6m_"
      },
      "id": "03aj68oPH6m_",
      "execution_count": 114,
      "outputs": []
    },
    {
      "cell_type": "markdown",
      "source": [
        "## Neural Network"
      ],
      "metadata": {
        "id": "ygkxcPleFYpD"
      },
      "id": "ygkxcPleFYpD"
    },
    {
      "cell_type": "code",
      "execution_count": 88,
      "id": "0a187cea",
      "metadata": {
        "id": "0a187cea",
        "colab": {
          "base_uri": "https://localhost:8080/"
        },
        "outputId": "8a413303-d0ba-41e2-be9a-7d1e282274d6"
      },
      "outputs": [
        {
          "output_type": "execute_result",
          "data": {
            "text/plain": [
              "MLPRegressor(hidden_layer_sizes=(300, 300, 200, 150, 100), max_iter=500,\n",
              "             random_state=1)"
            ]
          },
          "metadata": {},
          "execution_count": 88
        }
      ],
      "source": [
        "from sklearn.neural_network import MLPRegressor\n",
        "mlp = MLPRegressor(hidden_layer_sizes=(300,300,200,150,100),random_state=1, max_iter=500)\n",
        "mlp.fit(x_train, y_train)"
      ]
    },
    {
      "cell_type": "code",
      "source": [
        "y_test_pred = mlp.predict(x_test)\n",
        "r2 = r2_score(y_test,y_test_pred)\n",
        "mse = mean_squared_error(y_test,y_test_pred) \n",
        "reg_data.append(['neural network',r2,mse])"
      ],
      "metadata": {
        "id": "e4AEF3YcJ9CY"
      },
      "id": "e4AEF3YcJ9CY",
      "execution_count": 115,
      "outputs": []
    },
    {
      "cell_type": "markdown",
      "source": [
        "## Linear Regression"
      ],
      "metadata": {
        "id": "XaTuW5fiP25J"
      },
      "id": "XaTuW5fiP25J"
    },
    {
      "cell_type": "code",
      "source": [
        "from sklearn.linear_model import LinearRegression\n",
        "lr = LinearRegression() # Instantiate\n",
        "lr.fit(x_train, y_train)\n"
      ],
      "metadata": {
        "colab": {
          "base_uri": "https://localhost:8080/"
        },
        "id": "ZgoIOno6P50p",
        "outputId": "e19eafdc-579a-4dc8-84da-25188e3aa398"
      },
      "id": "ZgoIOno6P50p",
      "execution_count": 90,
      "outputs": [
        {
          "output_type": "execute_result",
          "data": {
            "text/plain": [
              "LinearRegression()"
            ]
          },
          "metadata": {},
          "execution_count": 90
        }
      ]
    },
    {
      "cell_type": "code",
      "source": [
        "y_test_pred = lr.predict(x_test)\n",
        "r2 = r2_score(y_test,y_test_pred)\n",
        "mse = mean_squared_error(y_test,y_test_pred) \n",
        "reg_data.append(['linear regression',r2,mse])"
      ],
      "metadata": {
        "id": "sq3qCm6PQEdT"
      },
      "id": "sq3qCm6PQEdT",
      "execution_count": 116,
      "outputs": []
    },
    {
      "cell_type": "code",
      "source": [
        "reg_data\n"
      ],
      "metadata": {
        "colab": {
          "base_uri": "https://localhost:8080/"
        },
        "id": "yx5YAvsETVnq",
        "outputId": "d97a51d1-486d-4c4c-8760-4c5c501e24ad"
      },
      "id": "yx5YAvsETVnq",
      "execution_count": 117,
      "outputs": [
        {
          "output_type": "execute_result",
          "data": {
            "text/plain": [
              "[['Algorithm', 'R2 Score', 'Mean Squared Error'],\n",
              " ['dummy', 0.6265447552096182, 161223.73477929985],\n",
              " ['decision tree', 0.9709076464423726, 12559.410958904109],\n",
              " ['KNN', 0.6265447552096182, 161223.73477929985],\n",
              " ['random forest', 0.972148823328015, 12023.584575913243],\n",
              " ['neural network', 0.8014620468881993, 85710.4853731228],\n",
              " ['linear regression', 0.5447535846103841, 196533.66329129864]]"
            ]
          },
          "metadata": {},
          "execution_count": 117
        }
      ]
    },
    {
      "cell_type": "code",
      "source": [
        "import tabulate"
      ],
      "metadata": {
        "id": "ErKfMbH7UDzg"
      },
      "id": "ErKfMbH7UDzg",
      "execution_count": 109,
      "outputs": []
    },
    {
      "cell_type": "code",
      "source": [
        "df = pd.DataFrame (reg_data[1:], columns = reg_data[0])\n",
        "print (df)"
      ],
      "metadata": {
        "colab": {
          "base_uri": "https://localhost:8080/"
        },
        "id": "GdNqzUlxVbm3",
        "outputId": "5abb17c7-842c-4822-8aae-edc8facc75fc"
      },
      "id": "GdNqzUlxVbm3",
      "execution_count": 121,
      "outputs": [
        {
          "output_type": "stream",
          "name": "stdout",
          "text": [
            "           Algorithm  R2 Score  Mean Squared Error\n",
            "0              dummy  0.626545       161223.734779\n",
            "1      decision tree  0.970908        12559.410959\n",
            "2                KNN  0.626545       161223.734779\n",
            "3      random forest  0.972149        12023.584576\n",
            "4     neural network  0.801462        85710.485373\n",
            "5  linear regression  0.544754       196533.663291\n"
          ]
        }
      ]
    },
    {
      "cell_type": "code",
      "source": [
        ""
      ],
      "metadata": {
        "id": "Gc756u0TV6Nl"
      },
      "id": "Gc756u0TV6Nl",
      "execution_count": null,
      "outputs": []
    }
  ],
  "metadata": {
    "kernelspec": {
      "display_name": "Python 3",
      "language": "python",
      "name": "python3"
    },
    "language_info": {
      "codemirror_mode": {
        "name": "ipython",
        "version": 3
      },
      "file_extension": ".py",
      "mimetype": "text/x-python",
      "name": "python",
      "nbconvert_exporter": "python",
      "pygments_lexer": "ipython3",
      "version": "3.8.8"
    },
    "colab": {
      "name": "Coursework.ipynb",
      "provenance": [],
      "collapsed_sections": []
    }
  },
  "nbformat": 4,
  "nbformat_minor": 5
}