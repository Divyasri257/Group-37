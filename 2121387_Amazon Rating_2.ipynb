{
 "cells": [
  {
   "cell_type": "code",
   "execution_count": 1,
   "id": "BPGZQON1FjjL",
   "metadata": {
    "colab": {
     "base_uri": "https://localhost:8080/"
    },
    "executionInfo": {
     "elapsed": 3551,
     "status": "ok",
     "timestamp": 1659912570496,
     "user": {
      "displayName": "Pranav V Kumar",
      "userId": "08911738721189571371"
     },
     "user_tz": -60
    },
    "id": "BPGZQON1FjjL",
    "outputId": "16f28fe3-6f39-40eb-add8-29242eb27485"
   },
   "outputs": [
    {
     "name": "stdout",
     "output_type": "stream",
     "text": [
      "Requirement already satisfied: datasets in c:\\users\\kvdiv\\anaconda3\\lib\\site-packages (2.0.0)\n",
      "Requirement already satisfied: pandas in c:\\users\\kvdiv\\anaconda3\\lib\\site-packages (from datasets) (1.2.4)\n",
      "Requirement already satisfied: xxhash in c:\\users\\kvdiv\\anaconda3\\lib\\site-packages (from datasets) (3.0.0)\n",
      "Requirement already satisfied: aiohttp in c:\\users\\kvdiv\\anaconda3\\lib\\site-packages (from datasets) (3.8.1)\n",
      "Requirement already satisfied: packaging in c:\\users\\kvdiv\\anaconda3\\lib\\site-packages (from datasets) (20.9)\n",
      "Requirement already satisfied: huggingface-hub<1.0.0,>=0.1.0 in c:\\users\\kvdiv\\anaconda3\\lib\\site-packages (from datasets) (0.4.0)\n",
      "Requirement already satisfied: fsspec[http]>=2021.05.0 in c:\\users\\kvdiv\\anaconda3\\lib\\site-packages (from datasets) (2022.2.0)\n",
      "Requirement already satisfied: requests>=2.19.0 in c:\\users\\kvdiv\\anaconda3\\lib\\site-packages (from datasets) (2.25.1)\n",
      "Requirement already satisfied: numpy>=1.17 in c:\\users\\kvdiv\\anaconda3\\lib\\site-packages (from datasets) (1.21.5)\n",
      "Requirement already satisfied: responses<0.19 in c:\\users\\kvdiv\\anaconda3\\lib\\site-packages (from datasets) (0.18.0)\n",
      "Requirement already satisfied: pyarrow>=5.0.0 in c:\\users\\kvdiv\\anaconda3\\lib\\site-packages (from datasets) (7.0.0)\n",
      "Requirement already satisfied: dill in c:\\users\\kvdiv\\anaconda3\\lib\\site-packages (from datasets) (0.3.4)\n",
      "Requirement already satisfied: tqdm>=4.62.1 in c:\\users\\kvdiv\\anaconda3\\lib\\site-packages (from datasets) (4.63.0)\n",
      "Requirement already satisfied: multiprocess in c:\\users\\kvdiv\\anaconda3\\lib\\site-packages (from datasets) (0.70.12.2)\n",
      "Requirement already satisfied: filelock in c:\\users\\kvdiv\\anaconda3\\lib\\site-packages (from huggingface-hub<1.0.0,>=0.1.0->datasets) (3.0.12)\n",
      "Requirement already satisfied: pyyaml in c:\\users\\kvdiv\\anaconda3\\lib\\site-packages (from huggingface-hub<1.0.0,>=0.1.0->datasets) (5.4.1)Note: you may need to restart the kernel to use updated packages.\n",
      "Requirement already satisfied: typing-extensions>=3.7.4.3 in c:\\users\\kvdiv\\anaconda3\\lib\\site-packages (from huggingface-hub<1.0.0,>=0.1.0->datasets) (4.1.1)\n",
      "Requirement already satisfied: pyparsing>=2.0.2 in c:\\users\\kvdiv\\anaconda3\\lib\\site-packages (from packaging->datasets) (2.4.7)\n",
      "Requirement already satisfied: urllib3<1.27,>=1.21.1 in c:\\users\\kvdiv\\anaconda3\\lib\\site-packages (from requests>=2.19.0->datasets) (1.26.4)\n",
      "Requirement already satisfied: idna<3,>=2.5 in c:\\users\\kvdiv\\anaconda3\\lib\\site-packages (from requests>=2.19.0->datasets) (2.10)\n",
      "Requirement already satisfied: certifi>=2017.4.17 in c:\\users\\kvdiv\\anaconda3\\lib\\site-packages (from requests>=2.19.0->datasets) (2022.6.15)\n",
      "Requirement already satisfied: chardet<5,>=3.0.2 in c:\\users\\kvdiv\\anaconda3\\lib\\site-packages (from requests>=2.19.0->datasets) (4.0.0)\n",
      "Requirement already satisfied: colorama in c:\\users\\kvdiv\\anaconda3\\lib\\site-packages (from tqdm>=4.62.1->datasets) (0.4.4)\n",
      "Requirement already satisfied: async-timeout<5.0,>=4.0.0a3 in c:\\users\\kvdiv\\anaconda3\\lib\\site-packages (from aiohttp->datasets) (4.0.2)\n",
      "Requirement already satisfied: yarl<2.0,>=1.0 in c:\\users\\kvdiv\\anaconda3\\lib\\site-packages (from aiohttp->datasets) (1.7.2)\n",
      "Requirement already satisfied: multidict<7.0,>=4.5 in c:\\users\\kvdiv\\anaconda3\\lib\\site-packages (from aiohttp->datasets) (6.0.2)\n",
      "Requirement already satisfied: charset-normalizer<3.0,>=2.0 in c:\\users\\kvdiv\\anaconda3\\lib\\site-packages (from aiohttp->datasets) (2.0.12)\n",
      "Requirement already satisfied: frozenlist>=1.1.1 in c:\\users\\kvdiv\\anaconda3\\lib\\site-packages (from aiohttp->datasets) (1.3.0)\n",
      "Requirement already satisfied: aiosignal>=1.1.2 in c:\\users\\kvdiv\\anaconda3\\lib\\site-packages (from aiohttp->datasets) (1.2.0)\n",
      "Requirement already satisfied: attrs>=17.3.0 in c:\\users\\kvdiv\\anaconda3\\lib\\site-packages (from aiohttp->datasets) (20.3.0)\n",
      "Requirement already satisfied: pytz>=2017.3 in c:\\users\\kvdiv\\anaconda3\\lib\\site-packages (from pandas->datasets) (2021.1)\n",
      "Requirement already satisfied: python-dateutil>=2.7.3 in c:\\users\\kvdiv\\anaconda3\\lib\\site-packages (from pandas->datasets) (2.8.1)\n",
      "Requirement already satisfied: six>=1.5 in c:\\users\\kvdiv\\anaconda3\\lib\\site-packages (from python-dateutil>=2.7.3->pandas->datasets) (1.15.0)\n",
      "\n"
     ]
    }
   ],
   "source": [
    "pip install datasets"
   ]
  },
  {
   "cell_type": "code",
   "execution_count": 2,
   "id": "qzXIh9Sd8N2J",
   "metadata": {
    "colab": {
     "base_uri": "https://localhost:8080/"
    },
    "executionInfo": {
     "elapsed": 2026,
     "status": "ok",
     "timestamp": 1659912572516,
     "user": {
      "displayName": "Pranav V Kumar",
      "userId": "08911738721189571371"
     },
     "user_tz": -60
    },
    "id": "qzXIh9Sd8N2J",
    "outputId": "e7323d30-c9a4-4c22-c47d-a8cefc1d4f81"
   },
   "outputs": [
    {
     "ename": "ModuleNotFoundError",
     "evalue": "No module named 'google.colab'",
     "output_type": "error",
     "traceback": [
      "\u001b[1;31m---------------------------------------------------------------------------\u001b[0m",
      "\u001b[1;31mModuleNotFoundError\u001b[0m                       Traceback (most recent call last)",
      "\u001b[1;32m<ipython-input-2-91874b305a32>\u001b[0m in \u001b[0;36m<module>\u001b[1;34m\u001b[0m\n\u001b[1;32m----> 1\u001b[1;33m \u001b[1;32mfrom\u001b[0m \u001b[0mgoogle\u001b[0m\u001b[1;33m.\u001b[0m\u001b[0mcolab\u001b[0m \u001b[1;32mimport\u001b[0m \u001b[0mdrive\u001b[0m\u001b[1;33m\u001b[0m\u001b[1;33m\u001b[0m\u001b[0m\n\u001b[0m\u001b[0;32m      2\u001b[0m \u001b[0mdrive\u001b[0m\u001b[1;33m.\u001b[0m\u001b[0mmount\u001b[0m\u001b[1;33m(\u001b[0m\u001b[1;34m'/content/drive/'\u001b[0m\u001b[1;33m)\u001b[0m\u001b[1;33m\u001b[0m\u001b[1;33m\u001b[0m\u001b[0m\n",
      "\u001b[1;31mModuleNotFoundError\u001b[0m: No module named 'google.colab'"
     ]
    }
   ],
   "source": [
    "from google.colab import drive\n",
    "drive.mount('/content/drive/')"
   ]
  },
  {
   "cell_type": "code",
   "execution_count": null,
   "id": "eJlL5hknFC0K",
   "metadata": {
    "colab": {
     "base_uri": "https://localhost:8080/"
    },
    "executionInfo": {
     "elapsed": 3609,
     "status": "ok",
     "timestamp": 1659912576120,
     "user": {
      "displayName": "Pranav V Kumar",
      "userId": "08911738721189571371"
     },
     "user_tz": -60
    },
    "id": "eJlL5hknFC0K",
    "outputId": "3389418d-1357-46a6-a67a-a075d313dfc8"
   },
   "outputs": [],
   "source": [
    "import os\n",
    "%tensorflow_version 2.x\n",
    "import tensorflow as tf\n",
    "device_name = tf.test.gpu_device_name()\n",
    "if device_name != '/device:GPU:0':\n",
    "  raise SystemError('GPU device not found')\n",
    "print('Found GPU at: {}'.format(device_name))"
   ]
  },
  {
   "cell_type": "code",
   "execution_count": null,
   "id": "b42d5aed",
   "metadata": {
    "colab": {
     "base_uri": "https://localhost:8080/"
    },
    "executionInfo": {
     "elapsed": 999,
     "status": "ok",
     "timestamp": 1659912577115,
     "user": {
      "displayName": "Pranav V Kumar",
      "userId": "08911738721189571371"
     },
     "user_tz": -60
    },
    "id": "b42d5aed",
    "outputId": "71805767-8d14-4a1f-d8d2-b3cdb244e71b"
   },
   "outputs": [],
   "source": [
    "from datasets import load_dataset\n",
    "from sklearn.model_selection import train_test_split\n",
    "\n",
    "import tensorflow as tf\n",
    "from tensorflow.keras.preprocessing import sequence\n",
    "from tensorflow.keras.preprocessing.text import Tokenizer\n",
    "from tensorflow.python.keras.utils import np_utils\n",
    "from tensorflow.keras.layers import Dense, Input, Dropout, Flatten, concatenate, LSTM, Conv1D, BatchNormalization, Bidirectional\n",
    "from tensorflow.keras.regularizers import l2\n",
    "from tensorflow.keras.layers import Embedding\n",
    "from tensorflow.keras.models import Model, load_model\n",
    "\n",
    "from datasets import load_dataset\n",
    "import pandas as pd\n",
    "import numpy as np\n",
    "from numpy import zeros\n",
    "import pyarrow as pa\n",
    "import sklearn\n",
    "import string\n",
    "import nltk\n",
    "\n",
    "nltk.download('vader_lexicon')\n",
    "nltk.download('omw-1.4')\n",
    "nltk.download('wordnet') #synonyms and antonyms\n",
    "nltk.download('stopwords') #common words\n",
    "nltk.download('punkt') #tokenizer, divides sentences\n",
    "\n",
    "from nltk.sentiment import SentimentIntensityAnalyzer\n",
    "from nltk.stem import WordNetLemmatizer #lemmatization\n",
    "from nltk.tokenize import word_tokenize #splitting sentence into words\n",
    "from nltk.corpus import stopwords \n",
    "\n",
    "from tqdm.notebook import tqdm\n",
    "import matplotlib.pyplot as plt\n",
    "import seaborn as sns\n",
    "import inflect #generates plurals, convert numbers to words\n",
    "import gensim #processing texts and vector models\n",
    "import string\n",
    "import re\n",
    "\n",
    "\n",
    "%matplotlib inline\n",
    "STOPWORDS= set(stopwords.words('english'))\n",
    "sia= SentimentIntensityAnalyzer()\n",
    "p=inflect.engine()"
   ]
  },
  {
   "cell_type": "code",
   "execution_count": null,
   "id": "e7a43414",
   "metadata": {
    "colab": {
     "base_uri": "https://localhost:8080/",
     "height": 86,
     "referenced_widgets": [
      "2f6eb32efc0f433e8031260d5042e8eb",
      "28ecefeeb558414ea74cb382eabedbd7",
      "4ed814e291e042b3a1c8d073f37e7e42",
      "a2045cba21194db0b3b118c17d65fb6d",
      "7da525f4b86540abbaa4894f2fdf1903",
      "1bc15c424a8846688b5c72daa2098cf2",
      "216b8214f1514b60a426b5eea9932f78",
      "ebe63a9298e441b69e718230f017f91c",
      "e6c92b6774e848d0b759201f07de9d45",
      "cc8b58b823d74f2dacd8fac3fdc85b2f",
      "342b73964f2f428f89ef58ca40f9bfa8"
     ]
    },
    "executionInfo": {
     "elapsed": 747,
     "status": "ok",
     "timestamp": 1659912577858,
     "user": {
      "displayName": "Pranav V Kumar",
      "userId": "08911738721189571371"
     },
     "user_tz": -60
    },
    "id": "e7a43414",
    "outputId": "e7f220c0-6a1d-4de2-acf9-7497ac508b40"
   },
   "outputs": [],
   "source": [
    "dataset = load_dataset(\n",
    "    \"amazon_reviews_multi\", \n",
    "    'en' # Select language of the dataset\n",
    ")"
   ]
  },
  {
   "cell_type": "markdown",
   "id": "3b304dbd",
   "metadata": {
    "id": "3b304dbd"
   },
   "source": [
    "# Coursework\n"
   ]
  },
  {
   "cell_type": "code",
   "execution_count": null,
   "id": "cada91cc",
   "metadata": {
    "executionInfo": {
     "elapsed": 6,
     "status": "ok",
     "timestamp": 1659912577859,
     "user": {
      "displayName": "Pranav V Kumar",
      "userId": "08911738721189571371"
     },
     "user_tz": -60
    },
    "id": "cada91cc"
   },
   "outputs": [],
   "source": [
    "Train_table=dataset[\"train\"]\n",
    "Test_table=dataset[\"test\"]\n",
    "Val_table=dataset[\"validation\"]"
   ]
  },
  {
   "cell_type": "code",
   "execution_count": null,
   "id": "a792f422",
   "metadata": {
    "executionInfo": {
     "elapsed": 805,
     "status": "ok",
     "timestamp": 1659912578658,
     "user": {
      "displayName": "Pranav V Kumar",
      "userId": "08911738721189571371"
     },
     "user_tz": -60
    },
    "id": "a792f422"
   },
   "outputs": [],
   "source": [
    "df_train=Train_table.to_pandas()\n",
    "df_test=Test_table.to_pandas()\n",
    "df_val=Val_table.to_pandas()"
   ]
  },
  {
   "cell_type": "code",
   "execution_count": null,
   "id": "69c767d6",
   "metadata": {
    "executionInfo": {
     "elapsed": 9,
     "status": "ok",
     "timestamp": 1659912578659,
     "user": {
      "displayName": "Pranav V Kumar",
      "userId": "08911738721189571371"
     },
     "user_tz": -60
    },
    "id": "69c767d6"
   },
   "outputs": [],
   "source": [
    "X_train=df_train.drop(columns=['product_id','reviewer_id','language','product_category'])\n",
    "X_test=df_test.drop(columns=['review_id','product_id','reviewer_id','language','product_category'])\n",
    "X_val=df_val.drop(columns=['review_id','product_id','reviewer_id','language','product_category'])"
   ]
  },
  {
   "cell_type": "code",
   "execution_count": null,
   "id": "Dd8EUL-v01yl",
   "metadata": {
    "executionInfo": {
     "elapsed": 8,
     "status": "ok",
     "timestamp": 1659912578659,
     "user": {
      "displayName": "Pranav V Kumar",
      "userId": "08911738721189571371"
     },
     "user_tz": -60
    },
    "id": "Dd8EUL-v01yl"
   },
   "outputs": [],
   "source": [
    "X_train['rating']=np.where((X_train['stars']<=3),0,X_train.stars)\n",
    "X_train['rating']=np.where((X_train['stars']>3),1,X_train.rating)\n",
    "X_val['rating']=np.where((X_val['stars']<=3),0,X_val.stars)\n",
    "X_val['rating']=np.where((X_val['stars']>3),1,X_val.rating)\n",
    "X_test['rating']=np.where((X_test['stars']<=3),0,X_test.stars)\n",
    "X_test['rating']=np.where((X_test['stars']>3),1,X_test.rating)"
   ]
  },
  {
   "cell_type": "code",
   "execution_count": null,
   "id": "30d6081f",
   "metadata": {
    "executionInfo": {
     "elapsed": 2589,
     "status": "ok",
     "timestamp": 1659912581241,
     "user": {
      "displayName": "Pranav V Kumar",
      "userId": "08911738721189571371"
     },
     "user_tz": -60
    },
    "id": "30d6081f"
   },
   "outputs": [],
   "source": [
    "X_train['Word_Counts']=X_train['review_body'].apply(lambda x: len(str(x.split())))\n",
    "X_val['Word_Counts']=X_val['review_body'].apply(lambda x: len(str(x.split())))\n",
    "X_test['Word_Counts']=X_test['review_body'].apply(lambda x: len(str(x.split())))"
   ]
  },
  {
   "cell_type": "markdown",
   "id": "2ffc2b40",
   "metadata": {
    "id": "2ffc2b40"
   },
   "source": [
    "# Data Cleaning"
   ]
  },
  {
   "cell_type": "code",
   "execution_count": null,
   "id": "249ce837",
   "metadata": {
    "executionInfo": {
     "elapsed": 6,
     "status": "ok",
     "timestamp": 1659912581242,
     "user": {
      "displayName": "Pranav V Kumar",
      "userId": "08911738721189571371"
     },
     "user_tz": -60
    },
    "id": "249ce837"
   },
   "outputs": [],
   "source": [
    "def text_preprocessing(text):\n",
    "    def remove_emoji(text):\n",
    "        emoji_pattern = re.compile(\"[\"\n",
    "                                   u\"\\U0001F600-\\U0001F64F\" \n",
    "                                   u\"\\U0001F300-\\U0001F5FF\"\n",
    "                                   u\"\\U0001F680-\\U0001F6ff\"\n",
    "                                   u\"\\U0001F1E0-\\U0001F1ff\"\n",
    "                                   u\"\\U00002702-\\U000027B0\"\n",
    "                                   u\"\\U000024C2-\\U0001F251\"\n",
    "                                   \"]+\",flags=re.UNICODE)\n",
    "        return emoji_pattern.sub(r'',text)\n",
    "    reviews=[text.lower() for text in text]\n",
    "    reviews=[re.sub(r'\\S+@\\S+','',text) for text in reviews]\n",
    "    reviews=[re.sub(r'\\d+','',text) for text in reviews]\n",
    "    reviews=[re.sub(r'[^\\w\\s]','',text) for text in reviews]\n",
    "    reviews=[text.strip() for text in reviews]\n",
    "    reviews=[remove_emoji(text) for text in reviews]\n",
    "    \n",
    "    stop_words=set(stopwords.words('english'))\n",
    "    \n",
    "    cleaned_reviews=[]\n",
    "    \n",
    "    for review in reviews:\n",
    "        tokens= [word for word in word_tokenize(review) if not word in stop_words]\n",
    "        cleaned_reviews.append(\" \".join(tokens))\n",
    "        \n",
    "    lemmatizer = WordNetLemmatizer()\n",
    "    lem_reviews=[]\n",
    "    for review in cleaned_reviews:\n",
    "        lem_reviews.append(\" \".join(list(map(lemmatizer.lemmatize,word_tokenize(review)))))\n",
    "    return lem_reviews"
   ]
  },
  {
   "cell_type": "markdown",
   "id": "5350be19",
   "metadata": {
    "id": "5350be19"
   },
   "source": [
    "# Preprocessing"
   ]
  },
  {
   "cell_type": "code",
   "execution_count": null,
   "id": "536c085a",
   "metadata": {
    "executionInfo": {
     "elapsed": 87232,
     "status": "ok",
     "timestamp": 1659912668469,
     "user": {
      "displayName": "Pranav V Kumar",
      "userId": "08911738721189571371"
     },
     "user_tz": -60
    },
    "id": "536c085a"
   },
   "outputs": [],
   "source": [
    "t=X_train['review_body']\n",
    "X_train['review_body']=text_preprocessing(t)\n",
    "te=X_test['review_body']\n",
    "X_test['review_body']=text_preprocessing(te)\n",
    "tv=X_val['review_body']\n",
    "X_val['review_body']=text_preprocessing(tv)"
   ]
  },
  {
   "cell_type": "code",
   "execution_count": null,
   "id": "57ca6c4e",
   "metadata": {
    "executionInfo": {
     "elapsed": 644,
     "status": "ok",
     "timestamp": 1659912669097,
     "user": {
      "displayName": "Pranav V Kumar",
      "userId": "08911738721189571371"
     },
     "user_tz": -60
    },
    "id": "57ca6c4e"
   },
   "outputs": [],
   "source": [
    "X_train['Word_counts_after_Preprocess']=X_train['review_body'].apply(lambda x: len(str(x.split())))\n",
    "X_val['Word_counts_after_Preprocess']=X_val['review_body'].apply(lambda x: len(str(x.split())))\n",
    "X_test['Word_counts_after_Preprocess']=X_test['review_body'].apply(lambda x: len(str(x.split())))\n"
   ]
  },
  {
   "cell_type": "code",
   "execution_count": null,
   "id": "GHPq84Jw1c7q",
   "metadata": {
    "executionInfo": {
     "elapsed": 9,
     "status": "ok",
     "timestamp": 1659912669097,
     "user": {
      "displayName": "Pranav V Kumar",
      "userId": "08911738721189571371"
     },
     "user_tz": -60
    },
    "id": "GHPq84Jw1c7q"
   },
   "outputs": [],
   "source": [
    "Y_train=X_train['stars']\n",
    "X_train.drop('rating',axis=1,inplace=True)\n",
    "\n",
    "Y_val=X_val['stars']\n",
    "X_val.drop('rating',axis=1,inplace=True)\n",
    "\n",
    "Y_test=X_test['stars']\n",
    "X_test.drop('rating',axis=1,inplace=True)"
   ]
  },
  {
   "cell_type": "markdown",
   "id": "a37f6f58",
   "metadata": {
    "id": "a37f6f58"
   },
   "source": [
    "# VADER"
   ]
  },
  {
   "cell_type": "code",
   "execution_count": null,
   "id": "857802d9",
   "metadata": {
    "colab": {
     "base_uri": "https://localhost:8080/",
     "height": 0,
     "referenced_widgets": [
      "00611d5a11074cd7951dffc87c00b409",
      "ab0bec990bba46518978639dfcbac369",
      "958ed86be392486d8b4d165d7d1b07b7",
      "c616b66b323d43259846cc62f4e0b837",
      "226e78e322d94c9298c93a55324ff9ac",
      "4e40471b68ca418d8b9f533c21068a21",
      "c731d70485854a899e95439d18a982f3",
      "2b4213c80e1e407d87fe117c5a66b0f6",
      "c63733d86c0b4bb2b8300d341f031bfa",
      "23184d12b8a544d0bffa16dda31dbb2f",
      "96e6377723fc4ba383a19b27f51341ca"
     ]
    },
    "executionInfo": {
     "elapsed": 68095,
     "status": "ok",
     "timestamp": 1659912737184,
     "user": {
      "displayName": "Pranav V Kumar",
      "userId": "08911738721189571371"
     },
     "user_tz": -60
    },
    "id": "857802d9",
    "outputId": "c97945cf-c78e-4854-9a26-4faaaf908d1e"
   },
   "outputs": [],
   "source": [
    "res1=dict()\n",
    "for i,row in tqdm(X_train.iterrows(), total=len(X_train)):\n",
    "    text=row['review_body']\n",
    "    myid=row['review_id']\n",
    "    res1[myid]=sia.polarity_scores(text)"
   ]
  },
  {
   "cell_type": "code",
   "execution_count": null,
   "id": "c6a929a0",
   "metadata": {
    "executionInfo": {
     "elapsed": 5947,
     "status": "ok",
     "timestamp": 1659912743117,
     "user": {
      "displayName": "Pranav V Kumar",
      "userId": "08911738721189571371"
     },
     "user_tz": -60
    },
    "id": "c6a929a0"
   },
   "outputs": [],
   "source": [
    "com=pd.DataFrame(res1).T\n",
    "com=com.reset_index().rename(columns={'index':'review_id'})\n",
    "com=com.merge(X_train,how='left')"
   ]
  },
  {
   "cell_type": "code",
   "execution_count": null,
   "id": "a2a48583",
   "metadata": {
    "colab": {
     "base_uri": "https://localhost:8080/",
     "height": 0
    },
    "executionInfo": {
     "elapsed": 2474,
     "status": "ok",
     "timestamp": 1659912745577,
     "user": {
      "displayName": "Pranav V Kumar",
      "userId": "08911738721189571371"
     },
     "user_tz": -60
    },
    "id": "a2a48583",
    "outputId": "89f53398-5b22-4213-d996-c16c2db10990"
   },
   "outputs": [],
   "source": [
    "sns.barplot(data=com,x='stars',y='compound').set(title='Compound Score Plot')"
   ]
  },
  {
   "cell_type": "code",
   "execution_count": null,
   "id": "1feb0f82",
   "metadata": {
    "colab": {
     "base_uri": "https://localhost:8080/",
     "height": 0
    },
    "executionInfo": {
     "elapsed": 8904,
     "status": "ok",
     "timestamp": 1659912754474,
     "user": {
      "displayName": "Pranav V Kumar",
      "userId": "08911738721189571371"
     },
     "user_tz": -60
    },
    "id": "1feb0f82",
    "outputId": "b9f6b530-995c-4417-ba1a-c359f7273c0a"
   },
   "outputs": [],
   "source": [
    "fig, axs=plt.subplots(1,3,figsize=(18,5))\n",
    "sns.barplot(data=com,x='stars',y='pos',ax=axs[0]).set(title='Positive Score Plot')\n",
    "sns.barplot(data=com,x='stars',y='neu',ax=axs[1]).set(title='Neutral Score Plot')\n",
    "sns.barplot(data=com,x='stars',y='neg',ax=axs[2]).set(title='Negative Score Plot')"
   ]
  },
  {
   "cell_type": "markdown",
   "id": "1c77155d",
   "metadata": {
    "id": "1c77155d"
   },
   "source": [
    "# Tokenization"
   ]
  },
  {
   "cell_type": "code",
   "execution_count": null,
   "id": "3a3a6fa6",
   "metadata": {
    "executionInfo": {
     "elapsed": 6696,
     "status": "ok",
     "timestamp": 1659912761167,
     "user": {
      "displayName": "Pranav V Kumar",
      "userId": "08911738721189571371"
     },
     "user_tz": -60
    },
    "id": "3a3a6fa6"
   },
   "outputs": [],
   "source": [
    "tokenizer= Tokenizer(num_words=1000)\n",
    "tokenizer.fit_on_texts(X_train['review_body'])\n",
    "\n",
    "X_train['text_token']=tokenizer.texts_to_sequences(X_train['review_body'].values)\n",
    "X_test['text_token']=tokenizer.texts_to_sequences(X_test['review_body'].values)\n",
    "X_val['text_token']=tokenizer.texts_to_sequences(X_val['review_body'].values)"
   ]
  },
  {
   "cell_type": "markdown",
   "id": "7fbafece",
   "metadata": {
    "id": "7fbafece"
   },
   "source": [
    "# Padding"
   ]
  },
  {
   "cell_type": "code",
   "execution_count": null,
   "id": "678a59ae",
   "metadata": {
    "executionInfo": {
     "elapsed": 610,
     "status": "ok",
     "timestamp": 1659912761764,
     "user": {
      "displayName": "Pranav V Kumar",
      "userId": "08911738721189571371"
     },
     "user_tz": -60
    },
    "id": "678a59ae"
   },
   "outputs": [],
   "source": [
    "max_review_length = 1500\n",
    "X_train=sequence.pad_sequences(X_train['text_token'].values,maxlen=max_review_length, padding='post')\n",
    "X_val=sequence.pad_sequences(X_val['text_token'].values,maxlen=max_review_length, padding='post')\n",
    "X_test=sequence.pad_sequences(X_test['text_token'].values,maxlen=max_review_length, padding='post')"
   ]
  },
  {
   "cell_type": "code",
   "execution_count": null,
   "id": "twp4MVTFAaa3",
   "metadata": {
    "colab": {
     "base_uri": "https://localhost:8080/"
    },
    "executionInfo": {
     "elapsed": 9,
     "status": "ok",
     "timestamp": 1659912761765,
     "user": {
      "displayName": "Pranav V Kumar",
      "userId": "08911738721189571371"
     },
     "user_tz": -60
    },
    "id": "twp4MVTFAaa3",
    "outputId": "67762c37-fb56-4691-d82b-13536b04e203"
   },
   "outputs": [],
   "source": [
    "X_train"
   ]
  },
  {
   "cell_type": "markdown",
   "id": "f972a260",
   "metadata": {
    "id": "f972a260"
   },
   "source": [
    "# GloVe vector"
   ]
  },
  {
   "cell_type": "code",
   "execution_count": null,
   "id": "0049c20c",
   "metadata": {
    "executionInfo": {
     "elapsed": 6,
     "status": "ok",
     "timestamp": 1659912761766,
     "user": {
      "displayName": "Pranav V Kumar",
      "userId": "08911738721189571371"
     },
     "user_tz": -60
    },
    "id": "0049c20c"
   },
   "outputs": [],
   "source": [
    "g=open(r'./drive/MyDrive/glove.6B.50d.txt',encoding='utf-8')"
   ]
  },
  {
   "cell_type": "code",
   "execution_count": null,
   "id": "381d2979",
   "metadata": {
    "executionInfo": {
     "elapsed": 394,
     "status": "ok",
     "timestamp": 1659912762155,
     "user": {
      "displayName": "Pranav V Kumar",
      "userId": "08911738721189571371"
     },
     "user_tz": -60
    },
    "id": "381d2979"
   },
   "outputs": [],
   "source": [
    "glove_vectors=dict()"
   ]
  },
  {
   "cell_type": "code",
   "execution_count": null,
   "id": "ae340253",
   "metadata": {
    "executionInfo": {
     "elapsed": 5020,
     "status": "ok",
     "timestamp": 1659912767173,
     "user": {
      "displayName": "Pranav V Kumar",
      "userId": "08911738721189571371"
     },
     "user_tz": -60
    },
    "id": "ae340253"
   },
   "outputs": [],
   "source": [
    "for line in g:\n",
    "    values=line.split()\n",
    "    word=values[0]\n",
    "    vectors=np.asarray(values[1:])\n",
    "    glove_vectors[word]=vectors\n",
    "g.close()"
   ]
  },
  {
   "cell_type": "code",
   "execution_count": null,
   "id": "zs5BSHqva9I1",
   "metadata": {
    "executionInfo": {
     "elapsed": 7,
     "status": "ok",
     "timestamp": 1659912767174,
     "user": {
      "displayName": "Pranav V Kumar",
      "userId": "08911738721189571371"
     },
     "user_tz": -60
    },
    "id": "zs5BSHqva9I1"
   },
   "outputs": [],
   "source": []
  },
  {
   "cell_type": "code",
   "execution_count": null,
   "id": "c9edf4e8",
   "metadata": {
    "executionInfo": {
     "elapsed": 7,
     "status": "ok",
     "timestamp": 1659912767175,
     "user": {
      "displayName": "Pranav V Kumar",
      "userId": "08911738721189571371"
     },
     "user_tz": -60
    },
    "id": "c9edf4e8"
   },
   "outputs": [],
   "source": [
    "glove_words=set(glove_vectors.keys())"
   ]
  },
  {
   "cell_type": "code",
   "execution_count": null,
   "id": "a68cd0f1",
   "metadata": {
    "executionInfo": {
     "elapsed": 403,
     "status": "ok",
     "timestamp": 1659912767572,
     "user": {
      "displayName": "Pranav V Kumar",
      "userId": "08911738721189571371"
     },
     "user_tz": -60
    },
    "id": "a68cd0f1"
   },
   "outputs": [],
   "source": [
    "max_vocabulary = len(tokenizer.word_index)\n",
    "embedding_matrix=zeros((max_vocabulary+1,50))\n",
    "\n",
    "for word, i in tokenizer.word_index.items():\n",
    "    if word in glove_words:\n",
    "        embedding_vector = glove_vectors[word]\n",
    "        embedding_matrix[i]=embedding_vector"
   ]
  },
  {
   "cell_type": "code",
   "execution_count": null,
   "id": "b6ea6ca3",
   "metadata": {
    "colab": {
     "base_uri": "https://localhost:8080/"
    },
    "executionInfo": {
     "elapsed": 662,
     "status": "ok",
     "timestamp": 1659912768232,
     "user": {
      "displayName": "Pranav V Kumar",
      "userId": "08911738721189571371"
     },
     "user_tz": -60
    },
    "id": "b6ea6ca3",
    "outputId": "0ed02281-dfa3-413a-cbf3-8a458214a1d9"
   },
   "outputs": [],
   "source": [
    "review = Input(shape=(1500,),name='review_input')\n",
    "\n",
    "X=Embedding(output_dim=50, input_dim=max_vocabulary+1, input_length=1400, weights=[embedding_matrix],trainable= False)(review)\n",
    "lstm_review =Bidirectional(LSTM(10))(X)\n",
    "\n",
    "model= Dropout(0.5)(lstm_review)\n",
    "\n",
    "model = Flatten()(model)\n",
    "\n",
    "model= Dense(64,activation= 'relu', kernel_initializer='he_normal', kernel_regularizer=l2(0.001))(model)\n",
    "model= Dense(8,activation= 'relu', kernel_initializer='he_normal', kernel_regularizer=l2(0.001))(model)\n",
    "output=Dense(5, activation= 'softmax', name='output')(model)\n",
    "model= Model(inputs=[review],outputs=[output])\n",
    "\n",
    "print(model.summary())\n"
   ]
  },
  {
   "cell_type": "code",
   "execution_count": null,
   "id": "1b43fe16",
   "metadata": {
    "executionInfo": {
     "elapsed": 334,
     "status": "ok",
     "timestamp": 1659912784707,
     "user": {
      "displayName": "Pranav V Kumar",
      "userId": "08911738721189571371"
     },
     "user_tz": -60
    },
    "id": "1b43fe16",
    "scrolled": false
   },
   "outputs": [],
   "source": [
    "model.compile(optimizer=tf.keras.optimizers.Adam(learning_rate=0.01), loss=tf.keras.losses.SparseCategoricalCrossentropy(), metrics=['accuracy'])"
   ]
  },
  {
   "cell_type": "code",
   "execution_count": null,
   "id": "TivYG8r1Bos6",
   "metadata": {
    "executionInfo": {
     "elapsed": 213,
     "status": "ok",
     "timestamp": 1659912788253,
     "user": {
      "displayName": "Pranav V Kumar",
      "userId": "08911738721189571371"
     },
     "user_tz": -60
    },
    "id": "TivYG8r1Bos6"
   },
   "outputs": [],
   "source": [
    "Y_train = Y_train.to_numpy()\n",
    "Y_val = Y_val.to_numpy()\n",
    "Y_test = Y_test.to_numpy()"
   ]
  },
  {
   "cell_type": "code",
   "execution_count": null,
   "id": "X-0-Ch6i_uqn",
   "metadata": {
    "executionInfo": {
     "elapsed": 4,
     "status": "ok",
     "timestamp": 1659912789391,
     "user": {
      "displayName": "Pranav V Kumar",
      "userId": "08911738721189571371"
     },
     "user_tz": -60
    },
    "id": "X-0-Ch6i_uqn"
   },
   "outputs": [],
   "source": [
    "Y_train= Y_train.reshape((-1,1))\n",
    "Y_val = Y_val.reshape((-1,1))\n",
    "Y_test = Y_test.reshape((-1,1))\n",
    "Y_train -= 1\n",
    "Y_val -= 1\n",
    "Y_test -= 1"
   ]
  },
  {
   "cell_type": "code",
   "execution_count": null,
   "id": "9S_adyKE4HKe",
   "metadata": {
    "colab": {
     "base_uri": "https://localhost:8080/"
    },
    "executionInfo": {
     "elapsed": 957530,
     "status": "ok",
     "timestamp": 1659913748427,
     "user": {
      "displayName": "Pranav V Kumar",
      "userId": "08911738721189571371"
     },
     "user_tz": -60
    },
    "id": "9S_adyKE4HKe",
    "outputId": "7f8ca3a3-b467-4344-fb19-1205cd5ac11c"
   },
   "outputs": [],
   "source": [
    "history=model.fit(X_train,Y_train, batch_size=4096, epochs=50, verbose=1,validation_data=(X_val,Y_val))"
   ]
  },
  {
   "cell_type": "markdown",
   "id": "8df08177",
   "metadata": {
    "id": "8df08177"
   },
   "source": [
    "# Model Save"
   ]
  },
  {
   "cell_type": "code",
   "execution_count": null,
   "id": "e3646a15",
   "metadata": {
    "executionInfo": {
     "elapsed": 329,
     "status": "aborted",
     "timestamp": 1659912768780,
     "user": {
      "displayName": "Pranav V Kumar",
      "userId": "08911738721189571371"
     },
     "user_tz": -60
    },
    "id": "e3646a15"
   },
   "outputs": [],
   "source": [
    "model.save('AmazonModel.h5')\n",
    "model.save_weights('AmazonModel_weights.h5')"
   ]
  },
  {
   "cell_type": "code",
   "execution_count": null,
   "id": "FlgfI2UEDqFX",
   "metadata": {
    "executionInfo": {
     "elapsed": 13,
     "status": "aborted",
     "timestamp": 1659912768781,
     "user": {
      "displayName": "Pranav V Kumar",
      "userId": "08911738721189571371"
     },
     "user_tz": -60
    },
    "id": "FlgfI2UEDqFX"
   },
   "outputs": [],
   "source": [
    "plt.plot(history.history['acc'])\n",
    "plt.plot(history.history['val_acc'])\n",
    "plt.title('model accuracy')\n",
    "plt.ylabel('accuracy')\n",
    "plt.xlabel('epoch')\n",
    "plt.legend(['train', 'val'], loc='upper left')\n",
    "plt.show()"
   ]
  },
  {
   "cell_type": "code",
   "execution_count": null,
   "id": "5b2959fb",
   "metadata": {
    "executionInfo": {
     "elapsed": 13,
     "status": "aborted",
     "timestamp": 1659912768781,
     "user": {
      "displayName": "Pranav V Kumar",
      "userId": "08911738721189571371"
     },
     "user_tz": -60
    },
    "id": "5b2959fb"
   },
   "outputs": [],
   "source": [
    "predictions=model.predict(X_test)\n",
    "predictions = np.argmax(predictions)\n",
    "predictions=predictions.round().astype('float')\n",
    "predictions"
   ]
  },
  {
   "cell_type": "code",
   "execution_count": null,
   "id": "be6874e6",
   "metadata": {
    "executionInfo": {
     "elapsed": 14,
     "status": "aborted",
     "timestamp": 1659912768782,
     "user": {
      "displayName": "Pranav V Kumar",
      "userId": "08911738721189571371"
     },
     "user_tz": -60
    },
    "id": "be6874e6"
   },
   "outputs": [],
   "source": [
    "from sklearn.metrics import accuracy_score\n",
    "Acc=accuracy_score(predictions,Y_test)\n",
    "print('The accuracy of the model {}'.format(Acc))"
   ]
  },
  {
   "cell_type": "markdown",
   "id": "d466716a",
   "metadata": {
    "id": "d466716a"
   },
   "source": [
    "# Confusion matrix"
   ]
  },
  {
   "cell_type": "code",
   "execution_count": null,
   "id": "a4720c35",
   "metadata": {
    "executionInfo": {
     "elapsed": 14,
     "status": "aborted",
     "timestamp": 1659912768782,
     "user": {
      "displayName": "Pranav V Kumar",
      "userId": "08911738721189571371"
     },
     "user_tz": -60
    },
    "id": "a4720c35"
   },
   "outputs": [],
   "source": [
    "from sklearn.metrics import confusion_matrix\n",
    "cm=confusion_matrix(predictions, Y_test)\n",
    "sns.heatmap(cm,square=True, annot=True, cmap='Blues', fmt='d', cbar= False)"
   ]
  },
  {
   "cell_type": "code",
   "execution_count": null,
   "id": "55a0295d",
   "metadata": {
    "executionInfo": {
     "elapsed": 14,
     "status": "aborted",
     "timestamp": 1659912768782,
     "user": {
      "displayName": "Pranav V Kumar",
      "userId": "08911738721189571371"
     },
     "user_tz": -60
    },
    "id": "55a0295d"
   },
   "outputs": [],
   "source": []
  }
 ],
 "metadata": {
  "accelerator": "GPU",
  "colab": {
   "collapsed_sections": [
    "2ffc2b40",
    "a37f6f58",
    "3513ecd9",
    "1c77155d",
    "8df08177",
    "d466716a"
   ],
   "name": "Amazon Rating_2.ipynb",
   "provenance": []
  },
  "gpuClass": "standard",
  "kernelspec": {
   "display_name": "Python 3",
   "language": "python",
   "name": "python3"
  },
  "language_info": {
   "codemirror_mode": {
    "name": "ipython",
    "version": 3
   },
   "file_extension": ".py",
   "mimetype": "text/x-python",
   "name": "python",
   "nbconvert_exporter": "python",
   "pygments_lexer": "ipython3",
   "version": "3.8.8"
  },
  "widgets": {
   "application/vnd.jupyter.widget-state+json": {
    "00611d5a11074cd7951dffc87c00b409": {
     "model_module": "@jupyter-widgets/controls",
     "model_module_version": "1.5.0",
     "model_name": "HBoxModel",
     "state": {
      "_dom_classes": [],
      "_model_module": "@jupyter-widgets/controls",
      "_model_module_version": "1.5.0",
      "_model_name": "HBoxModel",
      "_view_count": null,
      "_view_module": "@jupyter-widgets/controls",
      "_view_module_version": "1.5.0",
      "_view_name": "HBoxView",
      "box_style": "",
      "children": [
       "IPY_MODEL_ab0bec990bba46518978639dfcbac369",
       "IPY_MODEL_958ed86be392486d8b4d165d7d1b07b7",
       "IPY_MODEL_c616b66b323d43259846cc62f4e0b837"
      ],
      "layout": "IPY_MODEL_226e78e322d94c9298c93a55324ff9ac"
     }
    },
    "1bc15c424a8846688b5c72daa2098cf2": {
     "model_module": "@jupyter-widgets/base",
     "model_module_version": "1.2.0",
     "model_name": "LayoutModel",
     "state": {
      "_model_module": "@jupyter-widgets/base",
      "_model_module_version": "1.2.0",
      "_model_name": "LayoutModel",
      "_view_count": null,
      "_view_module": "@jupyter-widgets/base",
      "_view_module_version": "1.2.0",
      "_view_name": "LayoutView",
      "align_content": null,
      "align_items": null,
      "align_self": null,
      "border": null,
      "bottom": null,
      "display": null,
      "flex": null,
      "flex_flow": null,
      "grid_area": null,
      "grid_auto_columns": null,
      "grid_auto_flow": null,
      "grid_auto_rows": null,
      "grid_column": null,
      "grid_gap": null,
      "grid_row": null,
      "grid_template_areas": null,
      "grid_template_columns": null,
      "grid_template_rows": null,
      "height": null,
      "justify_content": null,
      "justify_items": null,
      "left": null,
      "margin": null,
      "max_height": null,
      "max_width": null,
      "min_height": null,
      "min_width": null,
      "object_fit": null,
      "object_position": null,
      "order": null,
      "overflow": null,
      "overflow_x": null,
      "overflow_y": null,
      "padding": null,
      "right": null,
      "top": null,
      "visibility": null,
      "width": null
     }
    },
    "216b8214f1514b60a426b5eea9932f78": {
     "model_module": "@jupyter-widgets/controls",
     "model_module_version": "1.5.0",
     "model_name": "DescriptionStyleModel",
     "state": {
      "_model_module": "@jupyter-widgets/controls",
      "_model_module_version": "1.5.0",
      "_model_name": "DescriptionStyleModel",
      "_view_count": null,
      "_view_module": "@jupyter-widgets/base",
      "_view_module_version": "1.2.0",
      "_view_name": "StyleView",
      "description_width": ""
     }
    },
    "226e78e322d94c9298c93a55324ff9ac": {
     "model_module": "@jupyter-widgets/base",
     "model_module_version": "1.2.0",
     "model_name": "LayoutModel",
     "state": {
      "_model_module": "@jupyter-widgets/base",
      "_model_module_version": "1.2.0",
      "_model_name": "LayoutModel",
      "_view_count": null,
      "_view_module": "@jupyter-widgets/base",
      "_view_module_version": "1.2.0",
      "_view_name": "LayoutView",
      "align_content": null,
      "align_items": null,
      "align_self": null,
      "border": null,
      "bottom": null,
      "display": null,
      "flex": null,
      "flex_flow": null,
      "grid_area": null,
      "grid_auto_columns": null,
      "grid_auto_flow": null,
      "grid_auto_rows": null,
      "grid_column": null,
      "grid_gap": null,
      "grid_row": null,
      "grid_template_areas": null,
      "grid_template_columns": null,
      "grid_template_rows": null,
      "height": null,
      "justify_content": null,
      "justify_items": null,
      "left": null,
      "margin": null,
      "max_height": null,
      "max_width": null,
      "min_height": null,
      "min_width": null,
      "object_fit": null,
      "object_position": null,
      "order": null,
      "overflow": null,
      "overflow_x": null,
      "overflow_y": null,
      "padding": null,
      "right": null,
      "top": null,
      "visibility": null,
      "width": null
     }
    },
    "23184d12b8a544d0bffa16dda31dbb2f": {
     "model_module": "@jupyter-widgets/base",
     "model_module_version": "1.2.0",
     "model_name": "LayoutModel",
     "state": {
      "_model_module": "@jupyter-widgets/base",
      "_model_module_version": "1.2.0",
      "_model_name": "LayoutModel",
      "_view_count": null,
      "_view_module": "@jupyter-widgets/base",
      "_view_module_version": "1.2.0",
      "_view_name": "LayoutView",
      "align_content": null,
      "align_items": null,
      "align_self": null,
      "border": null,
      "bottom": null,
      "display": null,
      "flex": null,
      "flex_flow": null,
      "grid_area": null,
      "grid_auto_columns": null,
      "grid_auto_flow": null,
      "grid_auto_rows": null,
      "grid_column": null,
      "grid_gap": null,
      "grid_row": null,
      "grid_template_areas": null,
      "grid_template_columns": null,
      "grid_template_rows": null,
      "height": null,
      "justify_content": null,
      "justify_items": null,
      "left": null,
      "margin": null,
      "max_height": null,
      "max_width": null,
      "min_height": null,
      "min_width": null,
      "object_fit": null,
      "object_position": null,
      "order": null,
      "overflow": null,
      "overflow_x": null,
      "overflow_y": null,
      "padding": null,
      "right": null,
      "top": null,
      "visibility": null,
      "width": null
     }
    },
    "28ecefeeb558414ea74cb382eabedbd7": {
     "model_module": "@jupyter-widgets/controls",
     "model_module_version": "1.5.0",
     "model_name": "HTMLModel",
     "state": {
      "_dom_classes": [],
      "_model_module": "@jupyter-widgets/controls",
      "_model_module_version": "1.5.0",
      "_model_name": "HTMLModel",
      "_view_count": null,
      "_view_module": "@jupyter-widgets/controls",
      "_view_module_version": "1.5.0",
      "_view_name": "HTMLView",
      "description": "",
      "description_tooltip": null,
      "layout": "IPY_MODEL_1bc15c424a8846688b5c72daa2098cf2",
      "placeholder": "​",
      "style": "IPY_MODEL_216b8214f1514b60a426b5eea9932f78",
      "value": "100%"
     }
    },
    "2b4213c80e1e407d87fe117c5a66b0f6": {
     "model_module": "@jupyter-widgets/base",
     "model_module_version": "1.2.0",
     "model_name": "LayoutModel",
     "state": {
      "_model_module": "@jupyter-widgets/base",
      "_model_module_version": "1.2.0",
      "_model_name": "LayoutModel",
      "_view_count": null,
      "_view_module": "@jupyter-widgets/base",
      "_view_module_version": "1.2.0",
      "_view_name": "LayoutView",
      "align_content": null,
      "align_items": null,
      "align_self": null,
      "border": null,
      "bottom": null,
      "display": null,
      "flex": null,
      "flex_flow": null,
      "grid_area": null,
      "grid_auto_columns": null,
      "grid_auto_flow": null,
      "grid_auto_rows": null,
      "grid_column": null,
      "grid_gap": null,
      "grid_row": null,
      "grid_template_areas": null,
      "grid_template_columns": null,
      "grid_template_rows": null,
      "height": null,
      "justify_content": null,
      "justify_items": null,
      "left": null,
      "margin": null,
      "max_height": null,
      "max_width": null,
      "min_height": null,
      "min_width": null,
      "object_fit": null,
      "object_position": null,
      "order": null,
      "overflow": null,
      "overflow_x": null,
      "overflow_y": null,
      "padding": null,
      "right": null,
      "top": null,
      "visibility": null,
      "width": null
     }
    },
    "2f6eb32efc0f433e8031260d5042e8eb": {
     "model_module": "@jupyter-widgets/controls",
     "model_module_version": "1.5.0",
     "model_name": "HBoxModel",
     "state": {
      "_dom_classes": [],
      "_model_module": "@jupyter-widgets/controls",
      "_model_module_version": "1.5.0",
      "_model_name": "HBoxModel",
      "_view_count": null,
      "_view_module": "@jupyter-widgets/controls",
      "_view_module_version": "1.5.0",
      "_view_name": "HBoxView",
      "box_style": "",
      "children": [
       "IPY_MODEL_28ecefeeb558414ea74cb382eabedbd7",
       "IPY_MODEL_4ed814e291e042b3a1c8d073f37e7e42",
       "IPY_MODEL_a2045cba21194db0b3b118c17d65fb6d"
      ],
      "layout": "IPY_MODEL_7da525f4b86540abbaa4894f2fdf1903"
     }
    },
    "342b73964f2f428f89ef58ca40f9bfa8": {
     "model_module": "@jupyter-widgets/controls",
     "model_module_version": "1.5.0",
     "model_name": "DescriptionStyleModel",
     "state": {
      "_model_module": "@jupyter-widgets/controls",
      "_model_module_version": "1.5.0",
      "_model_name": "DescriptionStyleModel",
      "_view_count": null,
      "_view_module": "@jupyter-widgets/base",
      "_view_module_version": "1.2.0",
      "_view_name": "StyleView",
      "description_width": ""
     }
    },
    "4e40471b68ca418d8b9f533c21068a21": {
     "model_module": "@jupyter-widgets/base",
     "model_module_version": "1.2.0",
     "model_name": "LayoutModel",
     "state": {
      "_model_module": "@jupyter-widgets/base",
      "_model_module_version": "1.2.0",
      "_model_name": "LayoutModel",
      "_view_count": null,
      "_view_module": "@jupyter-widgets/base",
      "_view_module_version": "1.2.0",
      "_view_name": "LayoutView",
      "align_content": null,
      "align_items": null,
      "align_self": null,
      "border": null,
      "bottom": null,
      "display": null,
      "flex": null,
      "flex_flow": null,
      "grid_area": null,
      "grid_auto_columns": null,
      "grid_auto_flow": null,
      "grid_auto_rows": null,
      "grid_column": null,
      "grid_gap": null,
      "grid_row": null,
      "grid_template_areas": null,
      "grid_template_columns": null,
      "grid_template_rows": null,
      "height": null,
      "justify_content": null,
      "justify_items": null,
      "left": null,
      "margin": null,
      "max_height": null,
      "max_width": null,
      "min_height": null,
      "min_width": null,
      "object_fit": null,
      "object_position": null,
      "order": null,
      "overflow": null,
      "overflow_x": null,
      "overflow_y": null,
      "padding": null,
      "right": null,
      "top": null,
      "visibility": null,
      "width": null
     }
    },
    "4ed814e291e042b3a1c8d073f37e7e42": {
     "model_module": "@jupyter-widgets/controls",
     "model_module_version": "1.5.0",
     "model_name": "FloatProgressModel",
     "state": {
      "_dom_classes": [],
      "_model_module": "@jupyter-widgets/controls",
      "_model_module_version": "1.5.0",
      "_model_name": "FloatProgressModel",
      "_view_count": null,
      "_view_module": "@jupyter-widgets/controls",
      "_view_module_version": "1.5.0",
      "_view_name": "ProgressView",
      "bar_style": "success",
      "description": "",
      "description_tooltip": null,
      "layout": "IPY_MODEL_ebe63a9298e441b69e718230f017f91c",
      "max": 3,
      "min": 0,
      "orientation": "horizontal",
      "style": "IPY_MODEL_e6c92b6774e848d0b759201f07de9d45",
      "value": 3
     }
    },
    "7da525f4b86540abbaa4894f2fdf1903": {
     "model_module": "@jupyter-widgets/base",
     "model_module_version": "1.2.0",
     "model_name": "LayoutModel",
     "state": {
      "_model_module": "@jupyter-widgets/base",
      "_model_module_version": "1.2.0",
      "_model_name": "LayoutModel",
      "_view_count": null,
      "_view_module": "@jupyter-widgets/base",
      "_view_module_version": "1.2.0",
      "_view_name": "LayoutView",
      "align_content": null,
      "align_items": null,
      "align_self": null,
      "border": null,
      "bottom": null,
      "display": null,
      "flex": null,
      "flex_flow": null,
      "grid_area": null,
      "grid_auto_columns": null,
      "grid_auto_flow": null,
      "grid_auto_rows": null,
      "grid_column": null,
      "grid_gap": null,
      "grid_row": null,
      "grid_template_areas": null,
      "grid_template_columns": null,
      "grid_template_rows": null,
      "height": null,
      "justify_content": null,
      "justify_items": null,
      "left": null,
      "margin": null,
      "max_height": null,
      "max_width": null,
      "min_height": null,
      "min_width": null,
      "object_fit": null,
      "object_position": null,
      "order": null,
      "overflow": null,
      "overflow_x": null,
      "overflow_y": null,
      "padding": null,
      "right": null,
      "top": null,
      "visibility": null,
      "width": null
     }
    },
    "958ed86be392486d8b4d165d7d1b07b7": {
     "model_module": "@jupyter-widgets/controls",
     "model_module_version": "1.5.0",
     "model_name": "FloatProgressModel",
     "state": {
      "_dom_classes": [],
      "_model_module": "@jupyter-widgets/controls",
      "_model_module_version": "1.5.0",
      "_model_name": "FloatProgressModel",
      "_view_count": null,
      "_view_module": "@jupyter-widgets/controls",
      "_view_module_version": "1.5.0",
      "_view_name": "ProgressView",
      "bar_style": "success",
      "description": "",
      "description_tooltip": null,
      "layout": "IPY_MODEL_2b4213c80e1e407d87fe117c5a66b0f6",
      "max": 200000,
      "min": 0,
      "orientation": "horizontal",
      "style": "IPY_MODEL_c63733d86c0b4bb2b8300d341f031bfa",
      "value": 200000
     }
    },
    "96e6377723fc4ba383a19b27f51341ca": {
     "model_module": "@jupyter-widgets/controls",
     "model_module_version": "1.5.0",
     "model_name": "DescriptionStyleModel",
     "state": {
      "_model_module": "@jupyter-widgets/controls",
      "_model_module_version": "1.5.0",
      "_model_name": "DescriptionStyleModel",
      "_view_count": null,
      "_view_module": "@jupyter-widgets/base",
      "_view_module_version": "1.2.0",
      "_view_name": "StyleView",
      "description_width": ""
     }
    },
    "a2045cba21194db0b3b118c17d65fb6d": {
     "model_module": "@jupyter-widgets/controls",
     "model_module_version": "1.5.0",
     "model_name": "HTMLModel",
     "state": {
      "_dom_classes": [],
      "_model_module": "@jupyter-widgets/controls",
      "_model_module_version": "1.5.0",
      "_model_name": "HTMLModel",
      "_view_count": null,
      "_view_module": "@jupyter-widgets/controls",
      "_view_module_version": "1.5.0",
      "_view_name": "HTMLView",
      "description": "",
      "description_tooltip": null,
      "layout": "IPY_MODEL_cc8b58b823d74f2dacd8fac3fdc85b2f",
      "placeholder": "​",
      "style": "IPY_MODEL_342b73964f2f428f89ef58ca40f9bfa8",
      "value": " 3/3 [00:00&lt;00:00, 37.88it/s]"
     }
    },
    "ab0bec990bba46518978639dfcbac369": {
     "model_module": "@jupyter-widgets/controls",
     "model_module_version": "1.5.0",
     "model_name": "HTMLModel",
     "state": {
      "_dom_classes": [],
      "_model_module": "@jupyter-widgets/controls",
      "_model_module_version": "1.5.0",
      "_model_name": "HTMLModel",
      "_view_count": null,
      "_view_module": "@jupyter-widgets/controls",
      "_view_module_version": "1.5.0",
      "_view_name": "HTMLView",
      "description": "",
      "description_tooltip": null,
      "layout": "IPY_MODEL_4e40471b68ca418d8b9f533c21068a21",
      "placeholder": "​",
      "style": "IPY_MODEL_c731d70485854a899e95439d18a982f3",
      "value": "100%"
     }
    },
    "c616b66b323d43259846cc62f4e0b837": {
     "model_module": "@jupyter-widgets/controls",
     "model_module_version": "1.5.0",
     "model_name": "HTMLModel",
     "state": {
      "_dom_classes": [],
      "_model_module": "@jupyter-widgets/controls",
      "_model_module_version": "1.5.0",
      "_model_name": "HTMLModel",
      "_view_count": null,
      "_view_module": "@jupyter-widgets/controls",
      "_view_module_version": "1.5.0",
      "_view_name": "HTMLView",
      "description": "",
      "description_tooltip": null,
      "layout": "IPY_MODEL_23184d12b8a544d0bffa16dda31dbb2f",
      "placeholder": "​",
      "style": "IPY_MODEL_96e6377723fc4ba383a19b27f51341ca",
      "value": " 200000/200000 [01:08&lt;00:00, 3321.81it/s]"
     }
    },
    "c63733d86c0b4bb2b8300d341f031bfa": {
     "model_module": "@jupyter-widgets/controls",
     "model_module_version": "1.5.0",
     "model_name": "ProgressStyleModel",
     "state": {
      "_model_module": "@jupyter-widgets/controls",
      "_model_module_version": "1.5.0",
      "_model_name": "ProgressStyleModel",
      "_view_count": null,
      "_view_module": "@jupyter-widgets/base",
      "_view_module_version": "1.2.0",
      "_view_name": "StyleView",
      "bar_color": null,
      "description_width": ""
     }
    },
    "c731d70485854a899e95439d18a982f3": {
     "model_module": "@jupyter-widgets/controls",
     "model_module_version": "1.5.0",
     "model_name": "DescriptionStyleModel",
     "state": {
      "_model_module": "@jupyter-widgets/controls",
      "_model_module_version": "1.5.0",
      "_model_name": "DescriptionStyleModel",
      "_view_count": null,
      "_view_module": "@jupyter-widgets/base",
      "_view_module_version": "1.2.0",
      "_view_name": "StyleView",
      "description_width": ""
     }
    },
    "cc8b58b823d74f2dacd8fac3fdc85b2f": {
     "model_module": "@jupyter-widgets/base",
     "model_module_version": "1.2.0",
     "model_name": "LayoutModel",
     "state": {
      "_model_module": "@jupyter-widgets/base",
      "_model_module_version": "1.2.0",
      "_model_name": "LayoutModel",
      "_view_count": null,
      "_view_module": "@jupyter-widgets/base",
      "_view_module_version": "1.2.0",
      "_view_name": "LayoutView",
      "align_content": null,
      "align_items": null,
      "align_self": null,
      "border": null,
      "bottom": null,
      "display": null,
      "flex": null,
      "flex_flow": null,
      "grid_area": null,
      "grid_auto_columns": null,
      "grid_auto_flow": null,
      "grid_auto_rows": null,
      "grid_column": null,
      "grid_gap": null,
      "grid_row": null,
      "grid_template_areas": null,
      "grid_template_columns": null,
      "grid_template_rows": null,
      "height": null,
      "justify_content": null,
      "justify_items": null,
      "left": null,
      "margin": null,
      "max_height": null,
      "max_width": null,
      "min_height": null,
      "min_width": null,
      "object_fit": null,
      "object_position": null,
      "order": null,
      "overflow": null,
      "overflow_x": null,
      "overflow_y": null,
      "padding": null,
      "right": null,
      "top": null,
      "visibility": null,
      "width": null
     }
    },
    "e6c92b6774e848d0b759201f07de9d45": {
     "model_module": "@jupyter-widgets/controls",
     "model_module_version": "1.5.0",
     "model_name": "ProgressStyleModel",
     "state": {
      "_model_module": "@jupyter-widgets/controls",
      "_model_module_version": "1.5.0",
      "_model_name": "ProgressStyleModel",
      "_view_count": null,
      "_view_module": "@jupyter-widgets/base",
      "_view_module_version": "1.2.0",
      "_view_name": "StyleView",
      "bar_color": null,
      "description_width": ""
     }
    },
    "ebe63a9298e441b69e718230f017f91c": {
     "model_module": "@jupyter-widgets/base",
     "model_module_version": "1.2.0",
     "model_name": "LayoutModel",
     "state": {
      "_model_module": "@jupyter-widgets/base",
      "_model_module_version": "1.2.0",
      "_model_name": "LayoutModel",
      "_view_count": null,
      "_view_module": "@jupyter-widgets/base",
      "_view_module_version": "1.2.0",
      "_view_name": "LayoutView",
      "align_content": null,
      "align_items": null,
      "align_self": null,
      "border": null,
      "bottom": null,
      "display": null,
      "flex": null,
      "flex_flow": null,
      "grid_area": null,
      "grid_auto_columns": null,
      "grid_auto_flow": null,
      "grid_auto_rows": null,
      "grid_column": null,
      "grid_gap": null,
      "grid_row": null,
      "grid_template_areas": null,
      "grid_template_columns": null,
      "grid_template_rows": null,
      "height": null,
      "justify_content": null,
      "justify_items": null,
      "left": null,
      "margin": null,
      "max_height": null,
      "max_width": null,
      "min_height": null,
      "min_width": null,
      "object_fit": null,
      "object_position": null,
      "order": null,
      "overflow": null,
      "overflow_x": null,
      "overflow_y": null,
      "padding": null,
      "right": null,
      "top": null,
      "visibility": null,
      "width": null
     }
    }
   }
  }
 },
 "nbformat": 4,
 "nbformat_minor": 5
}
